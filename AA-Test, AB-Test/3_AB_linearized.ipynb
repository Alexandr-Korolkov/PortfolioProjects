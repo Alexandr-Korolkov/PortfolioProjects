{
 "cells": [
  {
   "cell_type": "code",
   "execution_count": 83,
   "id": "22fb9da2-e969-412c-8778-6f0d7010f502",
   "metadata": {},
   "outputs": [],
   "source": [
    "#Проведем A\\B тесты на линеаризованном показателе"
   ]
  },
  {
   "cell_type": "code",
   "execution_count": 84,
   "id": "9d8a6fa4-49e8-4aaa-bf9b-ef6fe93f7fad",
   "metadata": {},
   "outputs": [],
   "source": [
    "# Импортируем необходимые библиотеки\n",
    "import pandas as pd\n",
    "import pandahouse as ph\n",
    "import seaborn as sns\n",
    "import scipy.stats as stats\n",
    "import hashlib\n",
    "import swifter\n",
    "import numpy as np\n",
    "import matplotlib.pyplot as plt"
   ]
  },
  {
   "cell_type": "code",
   "execution_count": 85,
   "id": "d8a87aed-48bf-4ba8-9ffc-8aa6ae002621",
   "metadata": {},
   "outputs": [],
   "source": [
    "#параметры соединения - нужны, чтобы подключиться к нужной схеме данных\n",
    "connection = {'host': 'https://clickhouse.lab.karpov.courses',\n",
    "'database':'simulator_20230920',\n",
    "'user':'student',\n",
    "'password':'dpo_python_2020'\n",
    "}"
   ]
  },
  {
   "cell_type": "code",
   "execution_count": 86,
   "id": "3b673812-3140-44f4-a64d-0d5c90434102",
   "metadata": {},
   "outputs": [],
   "source": [
    "#текст запроса\n",
    "query = '''\n",
    "SELECT  \n",
    "    user_id,\n",
    "    exp_group,\n",
    "    sum(action = 'like') as likes,\n",
    "    sum(action = 'view') as views,\n",
    "    likes/views as ctr\n",
    "FROM simulator_20230920.feed_actions \n",
    "WHERE toDate(time) BETWEEN '2023-08-29' AND '2023-09-04' AND exp_group IN (0,1,2,3)\n",
    "GROUP BY exp_group, user_id\n",
    "\n",
    "'''\n",
    "\n",
    "# эта функция выполнит запрос и запишет его результат в pandas DataFrame\n",
    "df_ab_lin = ph.read_clickhouse(query, connection=connection)"
   ]
  },
  {
   "cell_type": "code",
   "execution_count": 87,
   "id": "90c86492-d4df-40ac-9cc8-87038e2972a1",
   "metadata": {},
   "outputs": [
    {
     "data": {
      "text/html": [
       "<div>\n",
       "<style scoped>\n",
       "    .dataframe tbody tr th:only-of-type {\n",
       "        vertical-align: middle;\n",
       "    }\n",
       "\n",
       "    .dataframe tbody tr th {\n",
       "        vertical-align: top;\n",
       "    }\n",
       "\n",
       "    .dataframe thead th {\n",
       "        text-align: right;\n",
       "    }\n",
       "</style>\n",
       "<table border=\"1\" class=\"dataframe\">\n",
       "  <thead>\n",
       "    <tr style=\"text-align: right;\">\n",
       "      <th></th>\n",
       "      <th>user_id</th>\n",
       "      <th>exp_group</th>\n",
       "      <th>likes</th>\n",
       "      <th>views</th>\n",
       "      <th>ctr</th>\n",
       "    </tr>\n",
       "  </thead>\n",
       "  <tbody>\n",
       "    <tr>\n",
       "      <th>0</th>\n",
       "      <td>18392</td>\n",
       "      <td>1</td>\n",
       "      <td>7</td>\n",
       "      <td>32</td>\n",
       "      <td>0.218750</td>\n",
       "    </tr>\n",
       "    <tr>\n",
       "      <th>1</th>\n",
       "      <td>115383</td>\n",
       "      <td>3</td>\n",
       "      <td>12</td>\n",
       "      <td>44</td>\n",
       "      <td>0.272727</td>\n",
       "    </tr>\n",
       "    <tr>\n",
       "      <th>2</th>\n",
       "      <td>123580</td>\n",
       "      <td>3</td>\n",
       "      <td>2</td>\n",
       "      <td>11</td>\n",
       "      <td>0.181818</td>\n",
       "    </tr>\n",
       "    <tr>\n",
       "      <th>3</th>\n",
       "      <td>131473</td>\n",
       "      <td>2</td>\n",
       "      <td>9</td>\n",
       "      <td>108</td>\n",
       "      <td>0.083333</td>\n",
       "    </tr>\n",
       "    <tr>\n",
       "      <th>4</th>\n",
       "      <td>32420</td>\n",
       "      <td>2</td>\n",
       "      <td>13</td>\n",
       "      <td>44</td>\n",
       "      <td>0.295455</td>\n",
       "    </tr>\n",
       "  </tbody>\n",
       "</table>\n",
       "</div>"
      ],
      "text/plain": [
       "   user_id  exp_group  likes  views       ctr\n",
       "0    18392          1      7     32  0.218750\n",
       "1   115383          3     12     44  0.272727\n",
       "2   123580          3      2     11  0.181818\n",
       "3   131473          2      9    108  0.083333\n",
       "4    32420          2     13     44  0.295455"
      ]
     },
     "execution_count": 87,
     "metadata": {},
     "output_type": "execute_result"
    }
   ],
   "source": [
    "#Посмотрим первые 5 результатов.\n",
    "df_ab_lin.head()"
   ]
  },
  {
   "cell_type": "code",
   "execution_count": 88,
   "id": "5c330a36-8cf6-4281-a446-62383df9a5af",
   "metadata": {},
   "outputs": [],
   "source": [
    "#Тесты будем проводить между группами 0 - 3, и 1 - 2. (0,1- контрольные, 2,3- тестовые)"
   ]
  },
  {
   "cell_type": "code",
   "execution_count": 89,
   "id": "c3cd3533-b24e-4692-8876-be8beb48bdf9",
   "metadata": {},
   "outputs": [],
   "source": [
    "#Напишем формулы подсчета общего CTR в контрольной группе  𝐶𝑇𝑅𝑐𝑜𝑛𝑡𝑟𝑜𝑙=𝑠𝑢𝑚(𝑙𝑖𝑘𝑒𝑠)/𝑠𝑢𝑚(𝑣𝑖𝑒𝑤𝑠)\n",
    "CTR_control_0 = df_ab_lin[df_ab_lin.exp_group ==0].likes.sum()/df_ab_lin[df_ab_lin.exp_group ==0].views.sum()\n",
    "CTR_control_1 = df_ab_lin[df_ab_lin.exp_group ==1].likes.sum()/df_ab_lin[df_ab_lin.exp_group ==1].views.sum()"
   ]
  },
  {
   "cell_type": "code",
   "execution_count": 90,
   "id": "831fe1b2-23f5-47a0-967a-4346e7d823c6",
   "metadata": {},
   "outputs": [],
   "source": [
    "#Посчитаем в обеих группах поюзерную метрику  𝑙𝑖𝑛𝑒𝑎𝑟𝑖𝑧𝑒𝑑_𝑙𝑖𝑘𝑒𝑠=𝑙𝑖𝑘𝑒𝑠−𝐶𝑇𝑅𝑐𝑜𝑛𝑡𝑟𝑜𝑙∗𝑣𝑖𝑒𝑤𝑠"
   ]
  },
  {
   "cell_type": "code",
   "execution_count": 91,
   "id": "17201b72-cfee-48a3-83ac-55f4cc8abb6b",
   "metadata": {},
   "outputs": [],
   "source": [
    "#Разобьем на группы\n",
    "group_1 = df_ab_lin[(df_ab_lin.exp_group == 0)|(df_ab_lin.exp_group == 3)] \n",
    "group_2 = df_ab_lin[(df_ab_lin.exp_group == 1)|(df_ab_lin.exp_group == 2)] "
   ]
  },
  {
   "cell_type": "code",
   "execution_count": 92,
   "id": "bfd56a46-a662-4b25-83d1-ebdd560c3f1f",
   "metadata": {},
   "outputs": [],
   "source": [
    "#Вычислим формулу\n",
    "lin_group_1=group_1.likes-CTR_control_0*group_1.views\n",
    "lin_group_2=group_2.likes-CTR_control_1*group_2.views"
   ]
  },
  {
   "cell_type": "code",
   "execution_count": 93,
   "id": "807915ca-b0cb-48fb-803c-29702c84dbd3",
   "metadata": {},
   "outputs": [],
   "source": [
    "#Добавим в датасет\n",
    "df_ab_lin['linearized_likes']=pd.concat([lin_group_1, lin_group_2]).sort_index()"
   ]
  },
  {
   "cell_type": "code",
   "execution_count": 94,
   "id": "4c2ee9ef-46f3-40ac-8576-17a1434de684",
   "metadata": {},
   "outputs": [
    {
     "data": {
      "image/png": "[encoded data removed]",
      "text/plain": [
       "<Figure size 576x576 with 2 Axes>"
      ]
     },
     "metadata": {},
     "output_type": "display_data"
    }
   ],
   "source": [
    "#Провизуализируем для ставнения обычные и линеализованные показатели для 0 и 3 группы\n",
    "fig,ax =plt.subplots(2,1,figsize=(8, 8))\n",
    "sns.histplot(data = df_ab_lin[df_ab_lin['exp_group'].isin([0,3])] ,\n",
    "             ax=ax[0],\n",
    "              x='ctr', \n",
    "              hue='exp_group', \n",
    "              palette = ['r', 'b'],\n",
    "              alpha=0.5,\n",
    "              kde=False).set( title=\"Обычный CTR\")\n",
    "\n",
    "sns.histplot(data = df_ab_lin[df_ab_lin['exp_group'].isin([0,3])],\n",
    "             ax=ax[1], \n",
    "              x='linearized_likes', \n",
    "              hue='exp_group', \n",
    "              palette = ['r', 'b'],\n",
    "              alpha=0.5,\n",
    "              kde=False).set( title=\"Линеаризованные лайки\")\n",
    "plt.show()"
   ]
  },
  {
   "cell_type": "code",
   "execution_count": 95,
   "id": "b0a20679-ad62-4d65-b6ae-4540da82a903",
   "metadata": {},
   "outputs": [
    {
     "name": "stdout",
     "output_type": "stream",
     "text": [
      "p-value обычного CTR по тесту Стьюдента: 6.216047483057877e-44\n",
      "p-value линеаризованных лайков по тесту Стьюдента: 1.4918137745324434e-58\n"
     ]
    }
   ],
   "source": [
    "print('p-value обычного CTR по тесту Стьюдента: '+ \n",
    "      str(stats.ttest_ind(df_ab_lin[df_ab_lin.exp_group == 0].ctr,\n",
    "                df_ab_lin[df_ab_lin.exp_group == 3].ctr,\n",
    "                equal_var=False)[1]))\n",
    "print('p-value линеаризованных лайков по тесту Стьюдента: '+ \n",
    "      str(stats.ttest_ind(df_ab_lin[df_ab_lin.exp_group == 0].linearized_likes,\n",
    "                df_ab_lin[df_ab_lin.exp_group == 3].linearized_likes,\n",
    "                equal_var=False)[1]))"
   ]
  },
  {
   "cell_type": "markdown",
   "id": "78627930-06b8-4ad2-a3a1-1a8ac9384e46",
   "metadata": {},
   "source": [
    "Вывод: Результат p-value стал ниже чем был следовательно тест стал более чувствительный.\n",
    "Группы имеют сильное различие между собой и статистически не эквивалентны"
   ]
  },
  {
   "cell_type": "code",
   "execution_count": 96,
   "id": "973fc455-a501-40a2-b140-456077bae8b4",
   "metadata": {},
   "outputs": [
    {
     "name": "stdout",
     "output_type": "stream",
     "text": [
      "p-value обычного CTR по методу Манна-Уитни: 8.916679404235955e-57\n",
      "p-value линеаризованных лайков по методу Манна-Уитни: 2.504376811309453e-65\n"
     ]
    }
   ],
   "source": [
    "print('p-value обычного CTR по методу Манна-Уитни: '+ \n",
    "      str(stats.mannwhitneyu(df_ab_lin[df_ab_lin.exp_group == 0].ctr,\n",
    "                df_ab_lin[df_ab_lin.exp_group == 3].ctr)[1]))\n",
    "print('p-value линеаризованных лайков по методу Манна-Уитни: '+ \n",
    "      str(stats.mannwhitneyu(df_ab_lin[df_ab_lin.exp_group == 0].linearized_likes,\n",
    "                df_ab_lin[df_ab_lin.exp_group == 3].linearized_likes)[1]))"
   ]
  },
  {
   "cell_type": "markdown",
   "id": "0d54fc5e-d2c5-4e5b-9784-d0abd2af6ee0",
   "metadata": {},
   "source": [
    "p-value в тесте Манна-Уитни так же снизился. Следовательно этот метод работает лучше и для него."
   ]
  },
  {
   "cell_type": "code",
   "execution_count": 97,
   "id": "edca8cd7-c2e9-4ab3-b8a9-a6af2657619a",
   "metadata": {},
   "outputs": [
    {
     "data": {
      "image/png": "[encoded data removed]",
      "text/plain": [
       "<Figure size 576x576 with 2 Axes>"
      ]
     },
     "metadata": {},
     "output_type": "display_data"
    }
   ],
   "source": [
    "#Провизуализируем для ставнения обычные и линеализованные показатели для 1 и 2 группы\n",
    "fig,ax =plt.subplots(2,1,figsize=(8, 8))\n",
    "sns.histplot(data = df_ab_lin[df_ab_lin['exp_group'].isin([1,2])] ,\n",
    "             ax=ax[0],\n",
    "              x='ctr', \n",
    "              hue='exp_group', \n",
    "              palette = ['r', 'b'],\n",
    "              alpha=0.5,\n",
    "              kde=False).set( title=\"Обычный CTR\")\n",
    "\n",
    "sns.histplot(data = df_ab_lin[df_ab_lin['exp_group'].isin([1,2])],\n",
    "             ax=ax[1], \n",
    "              x='linearized_likes', \n",
    "              hue='exp_group', \n",
    "              palette = ['r', 'b'],\n",
    "              alpha=0.5,\n",
    "              kde=False).set( title=\"Линеаризованные лайки\")\n",
    "plt.show()"
   ]
  },
  {
   "cell_type": "code",
   "execution_count": 98,
   "id": "a5e8d7e3-891e-48e8-a143-7b9be5db786c",
   "metadata": {},
   "outputs": [
    {
     "name": "stdout",
     "output_type": "stream",
     "text": [
      "p-value обычного CTR по тесту Стьюдента: 0.685373331140751\n",
      "p-value линеаризованных лайков по тесту Стьюдента: 2.9805064038668383e-09\n"
     ]
    }
   ],
   "source": [
    "print('p-value обычного CTR по тесту Стьюдента: '+ \n",
    "      str(stats.ttest_ind(df_ab_lin[df_ab_lin.exp_group == 1].ctr,\n",
    "                df_ab_lin[df_ab_lin.exp_group == 2].ctr,\n",
    "                equal_var=False)[1]))\n",
    "print('p-value линеаризованных лайков по тесту Стьюдента: '+ \n",
    "      str(stats.ttest_ind(df_ab_lin[df_ab_lin.exp_group == 1].linearized_likes,\n",
    "                df_ab_lin[df_ab_lin.exp_group == 2].linearized_likes,\n",
    "                equal_var=False)[1]))"
   ]
  },
  {
   "cell_type": "markdown",
   "id": "0bac01cc-dbaf-425f-8892-7d1127b9c700",
   "metadata": {},
   "source": [
    "Вывод: Результат p-value стал ниже чем был и преодолел отметку в <0,05 что доказывает статистическое различие между группами следовательно тест стал более чувствительный и точный."
   ]
  },
  {
   "cell_type": "code",
   "execution_count": 99,
   "id": "44a7e16c-a76f-42f5-bebe-040a33c8b2be",
   "metadata": {},
   "outputs": [
    {
     "name": "stdout",
     "output_type": "stream",
     "text": [
      "p-value обычного CTR по методу Манна-Уитни: 4.632205841806026e-45\n",
      "p-value линеаризованных лайков по методу Манна-Уитни: 2.4030320776345276e-23\n"
     ]
    }
   ],
   "source": [
    "print('p-value обычного CTR по методу Манна-Уитни: '+ \n",
    "      str(stats.mannwhitneyu(df_ab_lin[df_ab_lin.exp_group == 1].ctr,\n",
    "                df_ab_lin[df_ab_lin.exp_group == 2].ctr)[1]))\n",
    "print('p-value линеаризованных лайков по методу Манна-Уитни: '+ \n",
    "      str(stats.mannwhitneyu(df_ab_lin[df_ab_lin.exp_group == 1].linearized_likes,\n",
    "                df_ab_lin[df_ab_lin.exp_group == 2].linearized_likes)[1]))"
   ]
  },
  {
   "cell_type": "markdown",
   "id": "21736a9d-ae2e-43c3-8886-f65c59088f9a",
   "metadata": {},
   "source": [
    "А вот в тесте Манна уитни p=value стал выше чем был, но все равно эти группы по этому методу являются статистически различными."
   ]
  },
  {
   "cell_type": "code",
   "execution_count": null,
   "id": "53855be0-a97c-4423-bbbd-3c3dda67d0e6",
   "metadata": {},
   "outputs": [],
   "source": []
  }
 ],
 "metadata": {
  "kernelspec": {
   "display_name": "Python 3 (ipykernel)",
   "language": "python",
   "name": "python3"
  },
  "language_info": {
   "codemirror_mode": {
    "name": "ipython",
    "version": 3
   },
   "file_extension": ".py",
   "mimetype": "text/x-python",
   "name": "python",
   "nbconvert_exporter": "python",
   "pygments_lexer": "ipython3",
   "version": "3.8.10"
  }
 },
 "nbformat": 4,
 "nbformat_minor": 5
}
