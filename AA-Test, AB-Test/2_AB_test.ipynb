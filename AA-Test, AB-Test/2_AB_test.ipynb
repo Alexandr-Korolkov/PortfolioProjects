{
 "cells": [
  {
   "cell_type": "code",
   "execution_count": 1,
   "id": "c5a99491-868c-4a52-a93f-f4a7e7d9f7fe",
   "metadata": {},
   "outputs": [],
   "source": [
    "#Проведем A\\B тесты разными способами и оценим результаты"
   ]
  },
  {
   "cell_type": "code",
   "execution_count": 2,
   "id": "f562b0a1-a7a3-433c-9f55-1d109f342925",
   "metadata": {},
   "outputs": [],
   "source": [
    "# Импортируем необходимые библиотеки\n",
    "import pandas as pd\n",
    "import pandahouse as ph\n",
    "import seaborn as sns\n",
    "import scipy.stats as stats\n",
    "import hashlib\n",
    "import swifter\n",
    "import numpy as np\n",
    "import matplotlib.pyplot as plt"
   ]
  },
  {
   "cell_type": "code",
   "execution_count": 3,
   "id": "2669a243-c5ef-4638-980b-9795af960551",
   "metadata": {},
   "outputs": [],
   "source": [
    "#параметры соединения - нужны, чтобы подключиться к нужной схеме данных\n",
    "connection = {'host': 'https://clickhouse.lab.karpov.courses',\n",
    "'database':'simulator_20230920',\n",
    "'user':'student',\n",
    "'password':'dpo_python_2020'\n",
    "}"
   ]
  },
  {
   "cell_type": "code",
   "execution_count": 13,
   "id": "52b6c761-c448-426f-9e82-9c42bf812687",
   "metadata": {},
   "outputs": [],
   "source": [
    "#текст запроса\n",
    "query = '''\n",
    "SELECT  \n",
    "    user_id,\n",
    "    case when exp_group = 1 then 0 else 1 end as exp_index,\n",
    "    sum(action = 'like') as likes,\n",
    "    sum(action = 'view') as views,\n",
    "    likes/views as ctr\n",
    "FROM simulator_20230920.feed_actions \n",
    "WHERE toDate(time) BETWEEN '2023-08-29' AND '2023-09-04' AND exp_group IN (2,1)\n",
    "GROUP BY exp_index, user_id\n",
    "\n",
    "'''\n",
    "\n",
    "# эта функция выполнит запрос и запишет его результат в pandas DataFrame\n",
    "df_ab = ph.read_clickhouse(query, connection=connection)"
   ]
  },
  {
   "cell_type": "code",
   "execution_count": 14,
   "id": "dff02a83-cb4e-42b1-a312-0caa62f78bfb",
   "metadata": {},
   "outputs": [
    {
     "data": {
      "text/html": [
       "<div>\n",
       "<style scoped>\n",
       "    .dataframe tbody tr th:only-of-type {\n",
       "        vertical-align: middle;\n",
       "    }\n",
       "\n",
       "    .dataframe tbody tr th {\n",
       "        vertical-align: top;\n",
       "    }\n",
       "\n",
       "    .dataframe thead th {\n",
       "        text-align: right;\n",
       "    }\n",
       "</style>\n",
       "<table border=\"1\" class=\"dataframe\">\n",
       "  <thead>\n",
       "    <tr style=\"text-align: right;\">\n",
       "      <th></th>\n",
       "      <th>user_id</th>\n",
       "      <th>exp_index</th>\n",
       "      <th>likes</th>\n",
       "      <th>views</th>\n",
       "      <th>ctr</th>\n",
       "    </tr>\n",
       "  </thead>\n",
       "  <tbody>\n",
       "    <tr>\n",
       "      <th>0</th>\n",
       "      <td>4660</td>\n",
       "      <td>0</td>\n",
       "      <td>15</td>\n",
       "      <td>69</td>\n",
       "      <td>0.217391</td>\n",
       "    </tr>\n",
       "    <tr>\n",
       "      <th>1</th>\n",
       "      <td>4742</td>\n",
       "      <td>0</td>\n",
       "      <td>10</td>\n",
       "      <td>31</td>\n",
       "      <td>0.322581</td>\n",
       "    </tr>\n",
       "    <tr>\n",
       "      <th>2</th>\n",
       "      <td>138058</td>\n",
       "      <td>1</td>\n",
       "      <td>4</td>\n",
       "      <td>65</td>\n",
       "      <td>0.061538</td>\n",
       "    </tr>\n",
       "    <tr>\n",
       "      <th>3</th>\n",
       "      <td>26579</td>\n",
       "      <td>1</td>\n",
       "      <td>27</td>\n",
       "      <td>63</td>\n",
       "      <td>0.428571</td>\n",
       "    </tr>\n",
       "    <tr>\n",
       "      <th>4</th>\n",
       "      <td>129283</td>\n",
       "      <td>0</td>\n",
       "      <td>9</td>\n",
       "      <td>50</td>\n",
       "      <td>0.180000</td>\n",
       "    </tr>\n",
       "  </tbody>\n",
       "</table>\n",
       "</div>"
      ],
      "text/plain": [
       "   user_id  exp_index  likes  views       ctr\n",
       "0     4660          0     15     69  0.217391\n",
       "1     4742          0     10     31  0.322581\n",
       "2   138058          1      4     65  0.061538\n",
       "3    26579          1     27     63  0.428571\n",
       "4   129283          0      9     50  0.180000"
      ]
     },
     "execution_count": 14,
     "metadata": {},
     "output_type": "execute_result"
    }
   ],
   "source": [
    "#Посмотрим первые 5 результатов. Мы разбили пользователей на контрольную(0) и тестовую(1) группы \n",
    "#и выбрали в качеситве контролируемого показателя CTR(lick\\view)\n",
    "df_ab.head()"
   ]
  },
  {
   "cell_type": "code",
   "execution_count": 15,
   "id": "f1c3a9eb-5753-457e-b9fd-cd32a2127c7e",
   "metadata": {},
   "outputs": [
    {
     "data": {
      "image/png": "[encoded data removed]",
      "text/plain": [
       "<Figure size 720x720 with 1 Axes>"
      ]
     },
     "metadata": {},
     "output_type": "display_data"
    }
   ],
   "source": [
    "#Посмотрим на гистограмму распределения CTR\n",
    "sns.set(rc={'figure.figsize':(10,10)})\n",
    "\n",
    "groups = sns.histplot(data = df_ab, \n",
    "              x='ctr', \n",
    "              hue='exp_index', \n",
    "              palette = ['r', 'b'],\n",
    "              alpha=0.5,\n",
    "              kde=False)"
   ]
  },
  {
   "cell_type": "code",
   "execution_count": 16,
   "id": "6777de43-9d79-4b4e-b183-7d8659d97583",
   "metadata": {},
   "outputs": [],
   "source": [
    "#Оценивая визуально можно сказать что:\n",
    "#1-Выборки не являются статистически эквивалентными\n",
    "#2-В тестовой группе обнаруживается два пика, иными словами оно бимодальное и состоит из двух отдельных групп пользователей.\n",
    "#3-При условии того, что система сплитования работает корректно такой результат может говорить о том, что пользователи разделились на две группы в ответ на нововведение.\n",
    "#4-дальнейшая работа и наблюдение за этими подруппами может дать лучшее понимание конечного пользователя и того, в каком направлении надо двигаться в развитии продукта."
   ]
  },
  {
   "cell_type": "code",
   "execution_count": 17,
   "id": "ab53f472-2ca1-43ff-ad54-4c3c61d0662b",
   "metadata": {},
   "outputs": [],
   "source": [
    "#Сохраним наши группы в переменные\n",
    "group_0 = df_ab[df_ab.exp_index==0].ctr\n",
    "group_1 = df_ab[df_ab.exp_index==1].ctr"
   ]
  },
  {
   "cell_type": "code",
   "execution_count": 18,
   "id": "eb64b278-3ae6-4d20-8e00-bfbdb8e1263a",
   "metadata": {},
   "outputs": [
    {
     "data": {
      "text/plain": [
       "Ttest_indResult(statistic=0.40514919131127564, pvalue=0.685373331140751)"
      ]
     },
     "execution_count": 18,
     "metadata": {},
     "output_type": "execute_result"
    }
   ],
   "source": [
    "#Проведем тест Стьюдента\n",
    "stats.ttest_ind(group_0,\n",
    "                group_1,\n",
    "                equal_var=False)"
   ]
  },
  {
   "cell_type": "code",
   "execution_count": 19,
   "id": "c4d047c3-62fa-49fd-8433-6dff3c38a89f",
   "metadata": {},
   "outputs": [],
   "source": [
    "#Результат p-value сильно больше чем 0,05 что ложно говорит нам о том что эти группы статистически эквивалентны.\n",
    "#Считать такой результат приемлемым нельзя, т.к. тестовое распределение не обладает свойствами нормального.\n",
    "#Получается такой результат это из-за того вычисленное среднее значение тестовой группы близко к контрольному."
   ]
  },
  {
   "cell_type": "code",
   "execution_count": 20,
   "id": "74c111ef-2592-4f7e-b867-f30b3a1c988c",
   "metadata": {},
   "outputs": [
    {
     "data": {
      "text/plain": [
       "MannwhitneyuResult(statistic=55189913.0, pvalue=4.632205841806026e-45)"
      ]
     },
     "execution_count": 20,
     "metadata": {},
     "output_type": "execute_result"
    }
   ],
   "source": [
    "#Проведем тест Манна-Уитни\n",
    "stats.mannwhitneyu(group_0, group_1)"
   ]
  },
  {
   "cell_type": "code",
   "execution_count": 21,
   "id": "2ffcb3e2-f922-4a67-919b-99c8a919dabb",
   "metadata": {},
   "outputs": [],
   "source": [
    "#p-value после подсчета теста Манна-Уитни <0.05 говорит нам о том что эти группы имеют статистическое различие\n",
    "#между друг другом. \n",
    "#Тест Манна-Уитни подходит для обсчета не нормалтных распределений, но все равно не дает право \n",
    "#говорить о заключении выбора в gользу нового алгоритма"
   ]
  },
  {
   "cell_type": "code",
   "execution_count": 69,
   "id": "fc8a89ff-6ddd-44b9-832a-4dca4ecbdf8e",
   "metadata": {},
   "outputs": [
    {
     "data": {
      "text/html": [
       "<div>\n",
       "<style scoped>\n",
       "    .dataframe tbody tr th:only-of-type {\n",
       "        vertical-align: middle;\n",
       "    }\n",
       "\n",
       "    .dataframe tbody tr th {\n",
       "        vertical-align: top;\n",
       "    }\n",
       "\n",
       "    .dataframe thead th {\n",
       "        text-align: right;\n",
       "    }\n",
       "</style>\n",
       "<table border=\"1\" class=\"dataframe\">\n",
       "  <thead>\n",
       "    <tr style=\"text-align: right;\">\n",
       "      <th></th>\n",
       "      <th>user_id</th>\n",
       "      <th>exp_index</th>\n",
       "      <th>likes</th>\n",
       "      <th>views</th>\n",
       "      <th>ctr</th>\n",
       "      <th>global_ctr</th>\n",
       "      <th>smothed_ctr</th>\n",
       "    </tr>\n",
       "  </thead>\n",
       "  <tbody>\n",
       "    <tr>\n",
       "      <th>0</th>\n",
       "      <td>4660</td>\n",
       "      <td>0</td>\n",
       "      <td>15</td>\n",
       "      <td>69</td>\n",
       "      <td>0.217391</td>\n",
       "      <td>0.209604</td>\n",
       "      <td>0.216865</td>\n",
       "    </tr>\n",
       "    <tr>\n",
       "      <th>1</th>\n",
       "      <td>4742</td>\n",
       "      <td>0</td>\n",
       "      <td>10</td>\n",
       "      <td>31</td>\n",
       "      <td>0.322581</td>\n",
       "      <td>0.209604</td>\n",
       "      <td>0.306889</td>\n",
       "    </tr>\n",
       "    <tr>\n",
       "      <th>2</th>\n",
       "      <td>138058</td>\n",
       "      <td>1</td>\n",
       "      <td>4</td>\n",
       "      <td>65</td>\n",
       "      <td>0.061538</td>\n",
       "      <td>0.200251</td>\n",
       "      <td>0.071446</td>\n",
       "    </tr>\n",
       "    <tr>\n",
       "      <th>3</th>\n",
       "      <td>26579</td>\n",
       "      <td>1</td>\n",
       "      <td>27</td>\n",
       "      <td>63</td>\n",
       "      <td>0.428571</td>\n",
       "      <td>0.200251</td>\n",
       "      <td>0.411783</td>\n",
       "    </tr>\n",
       "    <tr>\n",
       "      <th>4</th>\n",
       "      <td>129283</td>\n",
       "      <td>0</td>\n",
       "      <td>9</td>\n",
       "      <td>50</td>\n",
       "      <td>0.180000</td>\n",
       "      <td>0.209604</td>\n",
       "      <td>0.182691</td>\n",
       "    </tr>\n",
       "  </tbody>\n",
       "</table>\n",
       "</div>"
      ],
      "text/plain": [
       "   user_id  exp_index  likes  views       ctr  global_ctr  smothed_ctr\n",
       "0     4660          0     15     69  0.217391    0.209604     0.216865\n",
       "1     4742          0     10     31  0.322581    0.209604     0.306889\n",
       "2   138058          1      4     65  0.061538    0.200251     0.071446\n",
       "3    26579          1     27     63  0.428571    0.200251     0.411783\n",
       "4   129283          0      9     50  0.180000    0.209604     0.182691"
      ]
     },
     "execution_count": 69,
     "metadata": {},
     "output_type": "execute_result"
    }
   ],
   "source": [
    "#Проведем t-test на сглаженом CTR. \n",
    "#Для этого, напишем функцию сглаживания\n",
    "\n",
    "def get_smothed_ctr(user_likes, user_views, global_ctr, alpha):\n",
    "    smothed_ctr = (user_likes + alpha * global_ctr) / (user_views + alpha)\n",
    "    return smothed_ctr\n",
    "\n",
    "#Гиперпараметр альфа по условию равен 5\n",
    "alpha=5\n",
    "\n",
    "#Посчитаем общий CTR для каждой из групп\n",
    "global_ctr_0 = df_ab[df_ab.exp_index == 0].likes.sum()/df_ab[df_ab.exp_index == 0].views.sum()\n",
    "global_ctr_1 = df_ab[df_ab.exp_index == 1].likes.sum()/df_ab[df_ab.exp_index == 1].views.sum()\n",
    "\n",
    "#Добавим в дс колонки с общим CTR, и сглаженым CTR \n",
    "df_ab['global_ctr'] = df_ab['exp_index'].apply(lambda x: global_ctr_0  if x==0 else global_ctr_1)\n",
    "df_ab['smothed_ctr'] = get_smothed_ctr(df_ab.likes,df_ab.views,df_ab.global_ctr,alpha)\n",
    "\n",
    "#Посмотрим на первые 5 результатов датасета\n",
    "df_ab.head()"
   ]
  },
  {
   "cell_type": "code",
   "execution_count": 113,
   "id": "92ffcbb5-0f5f-4aa6-abfa-cf0606d2bfbc",
   "metadata": {},
   "outputs": [
    {
     "data": {
      "image/png": "[encoded data removed]",
      "text/plain": [
       "<Figure size 576x576 with 2 Axes>"
      ]
     },
     "metadata": {},
     "output_type": "display_data"
    }
   ],
   "source": [
    "#Сравним визуально распределение обычных и сглаженых CTR\n",
    "fig,ax =plt.subplots(2,1,figsize=(8, 8))\n",
    "sns.histplot(df_ab ,\n",
    "             ax=ax[0],\n",
    "              x='ctr', \n",
    "              hue='exp_index', \n",
    "              palette = ['r', 'b'],\n",
    "              alpha=0.5,\n",
    "              kde=False).set( title=\"Обычный CTR\")\n",
    "\n",
    "sns.histplot(df_ab,\n",
    "             ax=ax[1], \n",
    "              x='smothed_ctr', \n",
    "              hue='exp_index', \n",
    "              palette = ['r', 'b'],\n",
    "              alpha=0.5,\n",
    "              kde=False).set( title=\"Сглаженый CTR\")\n",
    "plt.show()"
   ]
  },
  {
   "cell_type": "code",
   "execution_count": 114,
   "id": "d954d036-aede-4c84-bc91-8d1e31d47c23",
   "metadata": {},
   "outputs": [],
   "source": [
    "#Визуально график стал более гладкий, без выбросов."
   ]
  },
  {
   "cell_type": "code",
   "execution_count": 116,
   "id": "9a442397-cdd8-4f10-ace1-4de1be64b6a6",
   "metadata": {},
   "outputs": [
    {
     "data": {
      "text/plain": [
       "Ttest_indResult(statistic=1.9460491517027292, pvalue=0.051666790153189965)"
      ]
     },
     "execution_count": 116,
     "metadata": {},
     "output_type": "execute_result"
    }
   ],
   "source": [
    "#Проведем тест Стьюдента\n",
    "stats.ttest_ind(df_ab[df_ab.exp_index==0].smothed_ctr,\n",
    "                df_ab[df_ab.exp_index==1].smothed_ctr,\n",
    "                equal_var=False)"
   ]
  },
  {
   "cell_type": "code",
   "execution_count": 117,
   "id": "e5366ffc-5152-42e4-9589-81e3a4c9efea",
   "metadata": {},
   "outputs": [],
   "source": [
    "#p-value в сглаженном тесте Стьюдента приблизился к значению статистической разницы. \n",
    "#Но все равно мы не можем использовать этот тест из за ненормальности распределения."
   ]
  },
  {
   "cell_type": "code",
   "execution_count": 130,
   "id": "788fe718-28a5-4759-8617-fa3edf4bbe95",
   "metadata": {},
   "outputs": [
    {
     "data": {
      "image/png": "[encoded data removed]",
      "text/plain": [
       "<Figure size 576x576 with 1 Axes>"
      ]
     },
     "metadata": {},
     "output_type": "display_data"
    }
   ],
   "source": [
    "#Применим функцию Пуассоновского бутстрепа. что бы получить общий CTR из псевдо-генеральных выборок наших групп.\n",
    "#Для этого напишем фукнцию\n",
    "def bootstrap(likes1, views1, likes2, views2, n_bootstrap=2000):\n",
    "\n",
    "    poisson_bootstraps1 = stats.poisson(1).rvs(\n",
    "        (n_bootstrap, len(likes1))).astype(np.int64)\n",
    "\n",
    "    poisson_bootstraps2 = stats.poisson(1).rvs(\n",
    "            (n_bootstrap, len(likes2))).astype(np.int64)\n",
    "    \n",
    "    globalCTR1 = (poisson_bootstraps1*likes1).sum(axis=1)/(poisson_bootstraps1*views1).sum(axis=1)\n",
    "    \n",
    "    globalCTR2 = (poisson_bootstraps2*likes2).sum(axis=1)/(poisson_bootstraps2*views2).sum(axis=1)\n",
    "\n",
    "    return globalCTR1, globalCTR2\n",
    "\n",
    "\n",
    "\n",
    "likes1 = df_ab[df_ab.exp_index == 0].likes.to_numpy()\n",
    "views1 = df_ab[df_ab.exp_index == 0].views.to_numpy()\n",
    "likes2 = df_ab[df_ab.exp_index == 1].likes.to_numpy()\n",
    "views2 = df_ab[df_ab.exp_index == 1].views.to_numpy()\n",
    "\n",
    "ctr1, ctr2 = bootstrap(likes1, views1, likes2, views2)\n",
    "\n",
    "#Визуальзируем графики\n",
    "sns.set(rc={'figure.figsize':(8,8)})\n",
    "sns.histplot(ctr1)\n",
    "sns.histplot(ctr2)\n",
    "plt.show()"
   ]
  },
  {
   "cell_type": "code",
   "execution_count": 131,
   "id": "54397c77-9e78-4762-a7c8-c92d54511830",
   "metadata": {},
   "outputs": [],
   "source": [
    "#Как мы можем наблюдать распределения CTR даже не имеют пересечений, соответственно не являются статистически эквивалентными.\n",
    "#Пуассоновский бутстреп так же можно применять практически при любом распределении."
   ]
  },
  {
   "cell_type": "code",
   "execution_count": 129,
   "id": "8e4261f4-651d-4037-b593-09534a9ef924",
   "metadata": {},
   "outputs": [
    {
     "data": {
      "image/png": "[encoded data removed]",
      "text/plain": [
       "<Figure size 576x576 with 1 Axes>"
      ]
     },
     "metadata": {},
     "output_type": "display_data"
    }
   ],
   "source": [
    "#Разница между глобальными CTR\n",
    "sns.set(rc={'figure.figsize':(8,8)})\n",
    "sns.histplot(ctr1 - ctr2)\n",
    "plt.show()"
   ]
  },
  {
   "cell_type": "code",
   "execution_count": 134,
   "id": "1dbea942-edc9-4522-85a8-2525986b30af",
   "metadata": {},
   "outputs": [
    {
     "data": {
      "text/plain": [
       "MannwhitneyuResult(statistic=1997.0, pvalue=2.6576427804010095e-07)"
      ]
     },
     "execution_count": 134,
     "metadata": {},
     "output_type": "execute_result"
    }
   ],
   "source": [
    "#Бакетное преобразование. Разделим наши группы на 50 частей в каждой, и посчитаем групповой CTR(CTR метабользователя)\n",
    "#И 0,9 квантиль CTR метапользователя\n",
    "#И после этого пременем тест Манна-Уитни и тесть Стьюдента для оценки\n",
    "q = \"\"\"\n",
    "\n",
    "SELECT case when exp_group = 1 then 0 else 1 end as exp_index, bucket,\n",
    "    sum(likes)/sum(views) as bucket_ctr,\n",
    "    quantileExact(0.9)(ctr) as ctr9\n",
    "FROM (SELECT exp_group, \n",
    "        xxHash64(user_id)%50 as bucket,\n",
    "        user_id,\n",
    "        sum(action = 'like') as likes,\n",
    "        sum(action = 'view') as views,\n",
    "        likes/views as ctr\n",
    "    FROM simulator_20230920.feed_actions  \n",
    "    WHERE toDate(time) BETWEEN '2023-08-29' AND '2023-09-04' AND exp_group IN (2,1)\n",
    "    GROUP BY exp_group, bucket, user_id)\n",
    "GROUP BY exp_group, bucket\n",
    "\"\"\"\n",
    "\n",
    "df = ph.read_clickhouse(q, connection=connection)\n",
    "\n",
    "#тест Манна-Уитни видит отличие\n",
    "stats.mannwhitneyu(df[df.exp_index == 0].bucket_ctr, \n",
    "                   df[df.exp_index == 1].bucket_ctr, \n",
    "                   alternative = 'two-sided')"
   ]
  },
  {
   "cell_type": "code",
   "execution_count": 135,
   "id": "13e5f6c8-6d98-4600-9509-3c381f583230",
   "metadata": {},
   "outputs": [],
   "source": [
    "#Бакетное преобразование с тестом Манна-Уитни так же показала статистическое различие в группах"
   ]
  },
  {
   "cell_type": "code",
   "execution_count": 136,
   "id": "755e352f-75cc-4db3-a750-7149cae1384c",
   "metadata": {},
   "outputs": [
    {
     "data": {
      "text/plain": [
       "Ttest_indResult(statistic=5.614819358149381, pvalue=4.592644937473873e-07)"
      ]
     },
     "execution_count": 136,
     "metadata": {},
     "output_type": "execute_result"
    }
   ],
   "source": [
    "#и t-тест тоже\n",
    "stats.ttest_ind(df[df.exp_index == 0].bucket_ctr, \n",
    "                   df[df.exp_index == 1].bucket_ctr, \n",
    "                   equal_var = False)"
   ]
  },
  {
   "cell_type": "code",
   "execution_count": 137,
   "id": "86ab29d9-86db-4213-b3e6-db9af96c4cc8",
   "metadata": {
    "tags": []
   },
   "outputs": [],
   "source": [
    "#Бакетное преобразование улучшило t-test и теперь он показывает статистическое различие в группах"
   ]
  },
  {
   "cell_type": "code",
   "execution_count": 145,
   "id": "66990d66-bb90-42f5-be4c-2da46a9a1ce7",
   "metadata": {},
   "outputs": [
    {
     "data": {
      "image/png": "[encoded data removed]",
      "text/plain": [
       "<Figure size 576x576 with 2 Axes>"
      ]
     },
     "metadata": {},
     "output_type": "display_data"
    }
   ],
   "source": [
    "fig,ax =plt.subplots(2,1,figsize=(8, 8))\n",
    "sns.histplot(df ,\n",
    "             ax=ax[0],\n",
    "              x='bucket_ctr', \n",
    "              hue='exp_index', \n",
    "              palette = ['r', 'b'],\n",
    "              alpha=0.5,\n",
    "              kde=False).set( title=\"Бакетный CTR\")\n",
    "\n",
    "sns.histplot(df,\n",
    "             ax=ax[1], \n",
    "              x='ctr9', \n",
    "              hue='exp_index', \n",
    "              palette = ['r', 'b'],\n",
    "              alpha=0.5,\n",
    "              kde=False).set( title=\"Бакетный CTR 0,9\")\n",
    "plt.show()\n"
   ]
  },
  {
   "cell_type": "code",
   "execution_count": 146,
   "id": "16d84c85-35b0-4e37-b2e7-9cb099d92538",
   "metadata": {},
   "outputs": [],
   "source": [
    "#Различия в распределениях видно невооруженным взглядом"
   ]
  },
  {
   "cell_type": "markdown",
   "id": "bf617ca1-94ff-4a24-9f8d-b3364c9c7ee3",
   "metadata": {},
   "source": [
    "Вывод"
   ]
  },
  {
   "cell_type": "markdown",
   "id": "19a7095d-7869-4516-b533-61b55438ee74",
   "metadata": {},
   "source": [
    "Сравнивая различные методики A\\B-тестирования можно утверждать, что конкретно для нашего бимодильного распределения тестовой группы подходят: Пуассоновский бутстреп, тест Манна-Уитни, а также t-тест и тест Манна-Уитни поверх бакетного преобразования. Они дают представления о том что наши распределения являются статистически различными. \n",
    "Обычны t-тест и t-тест на сглаженном ctr (α=5) из за метода зависимого от среднего значения и дисперсии, не показывает статистического различия между нашими группами.\n",
    "\n",
    "Оценивая визуально можно сказать что:\n",
    "#1-Выборки не являются статистически эквивалентными\n",
    "#2-В тестовой группе обнаруживается два пика, иными словами оно бимодальное и состоит из двух отдельных групп пользователей.\n",
    "#3-При условии того, что система сплитования работает корректно такой результат может говорить о том, что пользователи разделились на две группы в ответ на нововведение.\n",
    "#4-дальнейшая работа и наблюдение за этими подруппами может дать лучшее понимание конечного пользователя и того, в каком направлении надо двигаться в развитии продукта.\n",
    "\n",
    "Вывод по поводу принятия нового алгоритма: четкого положительного отклика у пользователей не наблюдается. Необходимо продолжить дальнейшую работу над ним. А так же проанализировать пользователей тестовой группы, определить почему клиенты разделились на дву группы (с повышением и с уменьшением CTR). Если возможно, учесть  недостатки данного алгоритма и постараться, если не исключить, то хотя бы минимизировать негативное его внияние на некоторые группы пользователей у которых снизился CTR."
   ]
  },
  {
   "cell_type": "code",
   "execution_count": null,
   "id": "4bc626f0-9dfa-4f44-bce6-f7603f9ce5ba",
   "metadata": {},
   "outputs": [],
   "source": []
  }
 ],
 "metadata": {
  "kernelspec": {
   "display_name": "Python 3 (ipykernel)",
   "language": "python",
   "name": "python3"
  },
  "language_info": {
   "codemirror_mode": {
    "name": "ipython",
    "version": 3
   },
   "file_extension": ".py",
   "mimetype": "text/x-python",
   "name": "python",
   "nbconvert_exporter": "python",
   "pygments_lexer": "ipython3",
   "version": "3.8.10"
  }
 },
 "nbformat": 4,
 "nbformat_minor": 5
}
