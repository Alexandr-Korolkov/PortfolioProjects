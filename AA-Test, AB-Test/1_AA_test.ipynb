{
 "cells": [
  {
   "cell_type": "code",
   "execution_count": 4,
   "id": "20007c74-4e3e-47cc-b786-4c00fb6be4ea",
   "metadata": {},
   "outputs": [],
   "source": [
    "#Итак, что нужно сделать: у нас есть данные А/А-теста с '2023-08-22' по '2023-08-28'. \n",
    "#Вам нужно сделать симуляцию, как будто мы провели 10000 А/А-тестов. \n",
    "#На каждой итерации вам нужно сформировать подвыборки без повторения в 500 юзеров из 2 и 3 экспериментальной группы. \n",
    "#Провести сравнение этих подвыборок t-testом.\n",
    "\n",
    "#1. Построить гистограмму распределения получившихся 10000 p-values.\n",
    "\n",
    "#2. Посчитать, какой процент p values оказался меньше либо равен 0.05\n",
    "\n",
    "#3. Написать вывод по проведенному А/А-тесту, корректно ли работает наша система сплитования.\n",
    "\n",
    "#4. Пришлите ссылку на merge request c проведенным анализом."
   ]
  },
  {
   "cell_type": "code",
   "execution_count": 5,
   "id": "3476709b-9e34-415a-b785-4539688c6871",
   "metadata": {},
   "outputs": [],
   "source": [
    "#Проведем А/А-тесты для сравниния выбранного показателя(CTR) в тестовой и контрольной группы."
   ]
  },
  {
   "cell_type": "code",
   "execution_count": 6,
   "id": "ae6e1d82-6c08-4280-8044-f2fe1b4abeb3",
   "metadata": {},
   "outputs": [],
   "source": [
    "# Импортируем необходимые библиотеки\n",
    "import pandas as pd\n",
    "import pandahouse as ph\n",
    "import seaborn as sns\n",
    "import scipy.stats as stats\n",
    "import hashlib\n",
    "import swifter\n",
    "import numpy as np\n",
    "import matplotlib.pyplot as plt"
   ]
  },
  {
   "cell_type": "code",
   "execution_count": 7,
   "id": "1caabb28-fcb6-4ffc-8e9d-195a5c44be19",
   "metadata": {},
   "outputs": [],
   "source": [
    "#параметры соединения - нужны, чтобы подключиться к нужной схеме данных\n",
    "connection = {'host': 'https://clickhouse.lab.karpov.courses',\n",
    "'database':'simulator_20230920',\n",
    "'user':'student',\n",
    "'password':'dpo_python_2020'\n",
    "}"
   ]
  },
  {
   "cell_type": "code",
   "execution_count": 8,
   "id": "5a48c959-ccf9-4338-b9e0-0eecf5bdb05f",
   "metadata": {},
   "outputs": [],
   "source": [
    "#текст запроса\n",
    "query = '''\n",
    "SELECT user_id,\n",
    "    case when exp_group = 2 then 0 else 1 end as exp_index,\n",
    "    countIf(action = 'like') / countIf(action = 'view')  as ctr\n",
    "FROM simulator_20230920.feed_actions \n",
    "WHERE toDate(time) BETWEEN '2023-08-22' AND '2023-08-28' AND exp_group IN (2,3)\n",
    "GROUP BY user_id,exp_group \n",
    "'''\n",
    "\n",
    "# эта функция выполнит запрос и запишет его результат в pandas DataFrame\n",
    "df_aa = ph.read_clickhouse(query, connection=connection)"
   ]
  },
  {
   "cell_type": "code",
   "execution_count": 9,
   "id": "866772ba-eaf5-41e5-a956-b37061e5cd2c",
   "metadata": {},
   "outputs": [
    {
     "data": {
      "text/html": [
       "<div>\n",
       "<style scoped>\n",
       "    .dataframe tbody tr th:only-of-type {\n",
       "        vertical-align: middle;\n",
       "    }\n",
       "\n",
       "    .dataframe tbody tr th {\n",
       "        vertical-align: top;\n",
       "    }\n",
       "\n",
       "    .dataframe thead th {\n",
       "        text-align: right;\n",
       "    }\n",
       "</style>\n",
       "<table border=\"1\" class=\"dataframe\">\n",
       "  <thead>\n",
       "    <tr style=\"text-align: right;\">\n",
       "      <th></th>\n",
       "      <th>user_id</th>\n",
       "      <th>exp_index</th>\n",
       "      <th>ctr</th>\n",
       "    </tr>\n",
       "  </thead>\n",
       "  <tbody>\n",
       "    <tr>\n",
       "      <th>0</th>\n",
       "      <td>115383</td>\n",
       "      <td>1</td>\n",
       "      <td>0.153226</td>\n",
       "    </tr>\n",
       "    <tr>\n",
       "      <th>1</th>\n",
       "      <td>10326</td>\n",
       "      <td>1</td>\n",
       "      <td>0.181818</td>\n",
       "    </tr>\n",
       "    <tr>\n",
       "      <th>2</th>\n",
       "      <td>123580</td>\n",
       "      <td>1</td>\n",
       "      <td>0.204918</td>\n",
       "    </tr>\n",
       "    <tr>\n",
       "      <th>3</th>\n",
       "      <td>131473</td>\n",
       "      <td>0</td>\n",
       "      <td>0.193878</td>\n",
       "    </tr>\n",
       "    <tr>\n",
       "      <th>4</th>\n",
       "      <td>23985</td>\n",
       "      <td>0</td>\n",
       "      <td>0.272727</td>\n",
       "    </tr>\n",
       "  </tbody>\n",
       "</table>\n",
       "</div>"
      ],
      "text/plain": [
       "   user_id  exp_index       ctr\n",
       "0   115383          1  0.153226\n",
       "1    10326          1  0.181818\n",
       "2   123580          1  0.204918\n",
       "3   131473          0  0.193878\n",
       "4    23985          0  0.272727"
      ]
     },
     "execution_count": 9,
     "metadata": {},
     "output_type": "execute_result"
    }
   ],
   "source": [
    "#Посмотрим первые 5 результатов датасета\n",
    "df_aa.head() "
   ]
  },
  {
   "cell_type": "code",
   "execution_count": 11,
   "id": "983fdd6e-a4b4-4ae5-a0ed-5020d47cd4a4",
   "metadata": {},
   "outputs": [
    {
     "data": {
      "image/png": "[encoded data removed]",
      "text/plain": [
       "<Figure size 720x720 with 1 Axes>"
      ]
     },
     "metadata": {},
     "output_type": "display_data"
    }
   ],
   "source": [
    "#Визуализируем графики CTR тестовой и контрольной группы\n",
    "sns.set(rc={'figure.figsize':(10,10)})\n",
    "\n",
    "sns.histplot(data = df_aa, \n",
    "              x='ctr', \n",
    "              hue='exp_index', \n",
    "              palette = ['r', 'b'],\n",
    "              alpha=0.5,\n",
    "              kde=False)\n",
    "plt.show()"
   ]
  },
  {
   "cell_type": "code",
   "execution_count": 74,
   "id": "6f983bf1-edfe-4313-a330-cf701948488d",
   "metadata": {},
   "outputs": [],
   "source": [
    "#Распределения похожи на нормальные и имеют схожие среднии значения"
   ]
  },
  {
   "cell_type": "code",
   "execution_count": 71,
   "id": "c76323e2-6298-4962-8add-8c9f5220374e",
   "metadata": {},
   "outputs": [
    {
     "data": {
      "text/plain": [
       "Ttest_indResult(statistic=0.661767574315154, pvalue=0.5081292746070931)"
      ]
     },
     "execution_count": 71,
     "metadata": {},
     "output_type": "execute_result"
    }
   ],
   "source": [
    "#Проведем Т-тест Стьюдента на целой выборки аггригированные по нашим группам\n",
    "stats.ttest_ind(df_aa[df_aa.exp_index == 0].ctr,\n",
    "                df_aa[df_aa.exp_index == 1].ctr,\n",
    "                alternative='two-sided')"
   ]
  },
  {
   "cell_type": "code",
   "execution_count": 75,
   "id": "88e80159-b3e7-44be-a89d-b5b539519415",
   "metadata": {},
   "outputs": [],
   "source": [
    "#группы являются статистически эквивалентными"
   ]
  },
  {
   "cell_type": "code",
   "execution_count": 73,
   "id": "03355984-4c29-4b85-82f5-197e92a9c574",
   "metadata": {},
   "outputs": [],
   "source": [
    "#Зададим переменные: Нам надо сделать выборки из каждой группы по 500 пользователей\n",
    "#и определить p-value в тесте Стьюдента 10 000 раз для неповторяющихся выборокиз этих групп.\n",
    "sample_size=500\n",
    "num_tests=10000"
   ]
  },
  {
   "cell_type": "code",
   "execution_count": 76,
   "id": "956c18fd-c684-45a6-872c-9b4ff7a3d80e",
   "metadata": {},
   "outputs": [],
   "source": [
    "# Создадим общую функцию для случайной выборки пользователей из группы\n",
    "def random_samples_of_group(exp_index):\n",
    "    return df_aa[df_aa.exp_index == exp_index].ctr.sample(sample_size)\n",
    "    "
   ]
  },
  {
   "cell_type": "code",
   "execution_count": 35,
   "id": "714123c2-aa23-46aa-a5f0-b3c637580840",
   "metadata": {},
   "outputs": [],
   "source": [
    "#Создадим массив со значениями p-value для 10 000 тестов Стьюдента\n",
    "t_tests=pd.DataFrame([(stats.ttest_ind(random_samples_of_group(0),\n",
    "                random_samples_of_group(1),\n",
    "                alternative='two-sided')[1]) for i in range(0,num_tests)])"
   ]
  },
  {
   "cell_type": "code",
   "execution_count": 41,
   "id": "334611ea-548d-4178-a9c3-e0ca4a81b86d",
   "metadata": {},
   "outputs": [
    {
     "data": {
      "image/png": "[encoded data removed]",
      "text/plain": [
       "<Figure size 1440x720 with 1 Axes>"
      ]
     },
     "metadata": {},
     "output_type": "display_data"
    }
   ],
   "source": [
    "#Визуализируем этот массив на гистограмме\n",
    "sns.set(rc={'figure.figsize':(20,10)})\n",
    "sns.histplot(data = t_tests,kde=False)\n",
    "plt.show()"
   ]
  },
  {
   "cell_type": "code",
   "execution_count": 63,
   "id": "29e3d232-0876-4817-ab8f-1d70763b1e34",
   "metadata": {},
   "outputs": [
    {
     "name": "stdout",
     "output_type": "stream",
     "text": [
      "4.45 %\n"
     ]
    }
   ],
   "source": [
    "#Определим какой процент результатов в массиве имеет значение <=0.05\n",
    "print(str(((t_tests.values<=0.05).sum()/num_tests)*100) +' %')"
   ]
  },
  {
   "cell_type": "code",
   "execution_count": 64,
   "id": "46fedd6a-a694-4a35-a7d6-9fcbe4e514c0",
   "metadata": {},
   "outputs": [],
   "source": [
    "#процент результатов меньше\\равно 0.05 меньше 5% что дает право говорить что система сплитования работает корректно"
   ]
  },
  {
   "cell_type": "code",
   "execution_count": 70,
   "id": "7e214c88-0643-444e-b9ac-ab956bb709e0",
   "metadata": {},
   "outputs": [],
   "source": [
    "#Общий вывод:\n",
    "#При проведении 10 000 А\\А тестов выборок по 500 случайных пользователей в статистически эквивалентных группах выяснилось, \n",
    "#что система сплитования работает корректно тк. процент результатов где p-value меньше 0,05 меньше 5 процентов."
   ]
  },
  {
   "cell_type": "code",
   "execution_count": null,
   "id": "a264ac2c-9a1f-47ef-b3a3-ef181a91ef59",
   "metadata": {},
   "outputs": [],
   "source": []
  }
 ],
 "metadata": {
  "kernelspec": {
   "display_name": "Python 3 (ipykernel)",
   "language": "python",
   "name": "python3"
  },
  "language_info": {
   "codemirror_mode": {
    "name": "ipython",
    "version": 3
   },
   "file_extension": ".py",
   "mimetype": "text/x-python",
   "name": "python",
   "nbconvert_exporter": "python",
   "pygments_lexer": "ipython3",
   "version": "3.8.10"
  }
 },
 "nbformat": 4,
 "nbformat_minor": 5
}
